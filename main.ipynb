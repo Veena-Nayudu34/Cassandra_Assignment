{
  "nbformat": 4,
  "nbformat_minor": 0,
  "metadata": {
    "colab": {
      "provenance": []
    },
    "kernelspec": {
      "name": "python3",
      "display_name": "Python 3"
    },
    "language_info": {
      "name": "python"
    }
  },
  "cells": [
    {
      "cell_type": "code",
      "execution_count": null,
      "metadata": {
        "colab": {
          "base_uri": "https://localhost:8080/"
        },
        "id": "rYEzoDke3C5V",
        "outputId": "0b878d21-f961-429f-f9b9-25cb5934f8ce"
      },
      "outputs": [
        {
          "output_type": "stream",
          "name": "stdout",
          "text": [
            "Collecting cassandra-driver\n",
            "  Downloading cassandra_driver-3.29.2-cp310-cp310-manylinux_2_17_x86_64.manylinux2014_x86_64.whl.metadata (6.2 kB)\n",
            "Collecting geomet<0.3,>=0.1 (from cassandra-driver)\n",
            "  Downloading geomet-0.2.1.post1-py3-none-any.whl.metadata (1.0 kB)\n",
            "Requirement already satisfied: click in /usr/local/lib/python3.10/dist-packages (from geomet<0.3,>=0.1->cassandra-driver) (8.1.7)\n",
            "Requirement already satisfied: six in /usr/local/lib/python3.10/dist-packages (from geomet<0.3,>=0.1->cassandra-driver) (1.16.0)\n",
            "Downloading cassandra_driver-3.29.2-cp310-cp310-manylinux_2_17_x86_64.manylinux2014_x86_64.whl (3.9 MB)\n",
            "\u001b[2K   \u001b[90m━━━━━━━━━━━━━━━━━━━━━━━━━━━━━━━━━━━━━━━━\u001b[0m \u001b[32m3.9/3.9 MB\u001b[0m \u001b[31m43.5 MB/s\u001b[0m eta \u001b[36m0:00:00\u001b[0m\n",
            "\u001b[?25hDownloading geomet-0.2.1.post1-py3-none-any.whl (18 kB)\n",
            "Installing collected packages: geomet, cassandra-driver\n",
            "Successfully installed cassandra-driver-3.29.2 geomet-0.2.1.post1\n"
          ]
        }
      ],
      "source": [
        "# Install the Cassandra python driver\n",
        "!pip install cassandra-driver"
      ]
    },
    {
      "cell_type": "code",
      "source": [
        "# Import the necessary libraries\n",
        "from cassandra.cluster import Cluster\n",
        "from cassandra.auth import PlainTextAuthProvider\n",
        "import json"
      ],
      "metadata": {
        "id": "SgvonQ-k3wnj"
      },
      "execution_count": null,
      "outputs": []
    },
    {
      "cell_type": "code",
      "source": [
        "\n",
        "\n",
        "cloud_config= {\n",
        "  'secure_connect_bundle': 'secure-connect-learner.zip'\n",
        "}\n",
        "\n",
        "\n",
        "with open(\"learner-token.json\") as f:\n",
        "    secrets = json.load(f)\n",
        "\n",
        "CLIENT_ID = secrets[\"clientId\"]\n",
        "CLIENT_SECRET = secrets[\"secret\"]\n",
        "\n",
        "auth_provider = PlainTextAuthProvider(CLIENT_ID, CLIENT_SECRET)\n",
        "cluster = Cluster(cloud=cloud_config, auth_provider=auth_provider)\n",
        "session = cluster.connect()\n",
        "\n",
        "if session:\n",
        "  print('Connected!')\n",
        "else:\n",
        "  print(\"An error occurred.\")"
      ],
      "metadata": {
        "colab": {
          "base_uri": "https://localhost:8080/"
        },
        "id": "doEfMZyk37Vb",
        "outputId": "cf815f24-0a06-45ba-ae25-88a7ec2767a5"
      },
      "execution_count": 4,
      "outputs": [
        {
          "output_type": "stream",
          "name": "stderr",
          "text": [
            "WARNING:cassandra.cluster:Downgrading core protocol version from 66 to 65 for 73811ac9-4e3b-4f6d-a209-199d8fb22e72-eu-west-1.db.astra.datastax.com:29042:9e3a5bee-3d95-3bf7-90f5-09bd2177324b. To avoid this, it is best practice to explicitly set Cluster(protocol_version) to the version supported by your cluster. http://datastax.github.io/python-driver/api/cassandra/cluster.html#cassandra.cluster.Cluster.protocol_version\n",
            "WARNING:cassandra.cluster:Downgrading core protocol version from 65 to 5 for 73811ac9-4e3b-4f6d-a209-199d8fb22e72-eu-west-1.db.astra.datastax.com:29042:9e3a5bee-3d95-3bf7-90f5-09bd2177324b. To avoid this, it is best practice to explicitly set Cluster(protocol_version) to the version supported by your cluster. http://datastax.github.io/python-driver/api/cassandra/cluster.html#cassandra.cluster.Cluster.protocol_version\n",
            "WARNING:cassandra.cluster:Downgrading core protocol version from 5 to 4 for 73811ac9-4e3b-4f6d-a209-199d8fb22e72-eu-west-1.db.astra.datastax.com:29042:9e3a5bee-3d95-3bf7-90f5-09bd2177324b. To avoid this, it is best practice to explicitly set Cluster(protocol_version) to the version supported by your cluster. http://datastax.github.io/python-driver/api/cassandra/cluster.html#cassandra.cluster.Cluster.protocol_version\n"
          ]
        },
        {
          "output_type": "stream",
          "name": "stdout",
          "text": [
            "Connected!\n"
          ]
        }
      ]
    },
    {
      "cell_type": "code",
      "source": [
        "\n",
        "\n",
        "# Create Bronze Table\n",
        "session.execute(\"\"\"\n",
        "CREATE TABLE IF NOT EXISTS example.bronze_sales (\n",
        "    order_id UUID PRIMARY KEY,\n",
        "    region TEXT,\n",
        "    country TEXT,\n",
        "    item_type TEXT,\n",
        "    sales_channel TEXT,\n",
        "    order_priority TEXT,\n",
        "    order_date DATE,\n",
        "    ship_date DATE,\n",
        "    units_sold INT,\n",
        "    unit_price DOUBLE,\n",
        "    unit_cost DOUBLE,\n",
        "    total_revenue DOUBLE,\n",
        "    total_cost DOUBLE,\n",
        "    total_profit DOUBLE\n",
        ");\n",
        "\"\"\")\n",
        "print(\"Bronze table created.\")\n"
      ],
      "metadata": {
        "colab": {
          "base_uri": "https://localhost:8080/"
        },
        "id": "Lgi2LZvYM1sY",
        "outputId": "f3181124-d831-409c-9171-e943614d99c4"
      },
      "execution_count": 5,
      "outputs": [
        {
          "output_type": "stream",
          "name": "stdout",
          "text": [
            "Bronze table created.\n"
          ]
        }
      ]
    },
    {
      "cell_type": "code",
      "source": [
        "# Create Silver Table\n",
        "session.execute(\"\"\"\n",
        "CREATE TABLE IF NOT EXISTS example.silver_sales (\n",
        "    order_id UUID PRIMARY KEY,\n",
        "    region TEXT,\n",
        "    country TEXT,\n",
        "    item_type TEXT,\n",
        "    sales_channel TEXT,\n",
        "    order_date DATE,\n",
        "    ship_date DATE,\n",
        "    units_sold INT,\n",
        "    unit_price DOUBLE,\n",
        "    total_revenue DOUBLE,\n",
        "    total_cost DOUBLE,\n",
        "    profit_margin DOUBLE\n",
        ");\n",
        "\"\"\")\n",
        "print(\"Silver table created.\")\n"
      ],
      "metadata": {
        "colab": {
          "base_uri": "https://localhost:8080/"
        },
        "id": "y6oHWnV0Swe7",
        "outputId": "811fd279-9bd2-400c-da27-e5dd48517a95"
      },
      "execution_count": 6,
      "outputs": [
        {
          "output_type": "stream",
          "name": "stdout",
          "text": [
            "Silver table created.\n"
          ]
        }
      ]
    },
    {
      "cell_type": "code",
      "source": [
        "# Create Gold Table\n",
        "session.execute(\"\"\"\n",
        "CREATE TABLE IF NOT EXISTS example.gold_revenue_by_region (\n",
        "    region TEXT PRIMARY KEY,\n",
        "    total_revenue DOUBLE\n",
        ");\n",
        "\"\"\")\n",
        "print(\"Gold table for revenue by region created.\")\n",
        "\n",
        "\n"
      ],
      "metadata": {
        "colab": {
          "base_uri": "https://localhost:8080/"
        },
        "id": "dbyvwxRvT3Zw",
        "outputId": "b125fad0-3550-40ac-9b44-eeb0bfc70010"
      },
      "execution_count": 7,
      "outputs": [
        {
          "output_type": "stream",
          "name": "stdout",
          "text": [
            "Gold table for revenue by region created.\n"
          ]
        }
      ]
    },
    {
      "cell_type": "code",
      "source": [
        "# Connect to the example Keyspace\n",
        "session = cluster.connect()\n",
        "\n",
        "# Load the CSV data into a pandas DataFrame\n",
        "import pandas as pd\n",
        "df = pd.read_csv('sales_100.csv')\n",
        "\n",
        "\n",
        "insert_query = session.prepare(\"INSERT INTO example.gold_revenue_by_region (region, total_revenue) VALUES (?, ?)\")\n",
        "\n",
        "\n",
        "for index, row in df.iterrows():\n",
        "    session.execute(insert_query, (row['Region'], row['TotalRevenue']))\n",
        "\n",
        "print(\"Data inserted successfully.\")\n",
        "\n"
      ],
      "metadata": {
        "colab": {
          "base_uri": "https://localhost:8080/"
        },
        "id": "wQzxMybg4air",
        "outputId": "4111d502-cb08-4a73-f630-6b873d5533ac"
      },
      "execution_count": 9,
      "outputs": [
        {
          "output_type": "stream",
          "name": "stdout",
          "text": [
            "Data inserted successfully.\n"
          ]
        }
      ]
    },
    {
      "cell_type": "code",
      "source": [
        "# Insert data from DataFrame into the Bronze table\n",
        "insert_query_bronze = session.prepare(\"\"\"\n",
        "INSERT INTO example.bronze_sales (\n",
        "    order_id, region, country, item_type, sales_channel, order_priority,\n",
        "    order_date, ship_date, units_sold, unit_price, unit_cost,\n",
        "    total_revenue, total_cost, total_profit\n",
        ") VALUES (?, ?, ?, ?, ?, ?, ?, ?, ?, ?, ?, ?, ?, ?)\n",
        "\"\"\")\n",
        "\n",
        "for index, row in df.iterrows():\n",
        "    session.execute(insert_query_bronze, (\n",
        "        uuid.uuid4(),\n",
        "        row['Region'],\n",
        "        row['Country'],\n",
        "        row['Item Type'],\n",
        "        row['Sales Channel'],\n",
        "        row['Order Priority'],\n",
        "        datetime.strptime(row['Order Date'], '%m/%d/%Y'),\n",
        "        datetime.strptime(row['Ship Date'], '%m/%d/%Y'),\n",
        "        int(row['UnitsSold']),\n",
        "        float(row['UnitPrice']),\n",
        "        float(row['UnitCost']),\n",
        "        float(row['TotalRevenue']),\n",
        "        float(row['TotalCost']),\n",
        "        float(row['TotalProfit'])\n",
        "    ))\n",
        "print(\"Data inserted into Bronze table.\")\n"
      ],
      "metadata": {
        "colab": {
          "base_uri": "https://localhost:8080/"
        },
        "id": "o21f3Zheax8H",
        "outputId": "202fb790-49da-4f44-fa61-8d5c6ef0b0ab"
      },
      "execution_count": null,
      "outputs": [
        {
          "output_type": "stream",
          "name": "stdout",
          "text": [
            "Data inserted into Bronze table.\n"
          ]
        }
      ]
    },
    {
      "cell_type": "code",
      "source": [
        "# Calculate Profit Margin\n",
        "df['ProfitMargin'] = (df['TotalProfit'] / df['TotalRevenue']) * 100\n",
        "\n",
        "# Insert data from DataFrame into the Silver table\n",
        "insert_query_silver = session.prepare(\"\"\"\n",
        "INSERT INTO example.silver_sales (\n",
        "    order_id, region, country, item_type, sales_channel, order_date,\n",
        "    ship_date, units_sold, unit_price, total_revenue, total_cost, profit_margin\n",
        ") VALUES (?, ?, ?, ?, ?, ?, ?, ?, ?, ?, ?, ?)\n",
        "\"\"\")\n",
        "\n",
        "for index, row in df.iterrows():\n",
        "    session.execute(insert_query_silver, (\n",
        "        uuid.uuid4(),\n",
        "        row['Region'],\n",
        "        row['Country'],\n",
        "        row['Item Type'],\n",
        "        row['Sales Channel'],\n",
        "        datetime.strptime(row['Order Date'], '%m/%d/%Y'),\n",
        "        datetime.strptime(row['Ship Date'], '%m/%d/%Y'),\n",
        "        int(row['UnitsSold']),\n",
        "        float(row['UnitPrice']),\n",
        "        float(row['TotalRevenue']),\n",
        "        float(row['TotalCost']),\n",
        "        float(row['ProfitMargin'])\n",
        "    ))\n",
        "print(\"Data inserted into Silver table.\")\n"
      ],
      "metadata": {
        "colab": {
          "base_uri": "https://localhost:8080/"
        },
        "id": "55ane8HpbaUJ",
        "outputId": "bf00cfb4-3288-484b-ce7b-23c648697ed7"
      },
      "execution_count": null,
      "outputs": [
        {
          "output_type": "stream",
          "name": "stdout",
          "text": [
            "Data inserted into Silver table.\n"
          ]
        }
      ]
    },
    {
      "cell_type": "code",
      "source": [
        "# Select the data from the gold table\n",
        "rows = session.execute(\"SELECT * FROM example.gold_revenue_by_region\")\n",
        "\n",
        "for row in rows:\n",
        "    print(row.region, row.total_revenue )\n",
        "\n",
        "# Close the session\n",
        "session.shutdown()"
      ],
      "metadata": {
        "colab": {
          "base_uri": "https://localhost:8080/"
        },
        "id": "68SwFr_tWRtf",
        "outputId": "48655085-4d8f-44ba-eb99-a3e5a14a5955"
      },
      "execution_count": null,
      "outputs": [
        {
          "output_type": "stream",
          "name": "stdout",
          "text": [
            "Australia and Oceania 1168581.7\n",
            "Europe 1509220.9\n",
            "Middle East and North Africa 4205821.41\n",
            "Central America and the Caribbean 44224.2\n",
            "Asia 2196359.34\n",
            "Sub-Saharan Africa 2149107.66\n",
            "North America 348496.72\n"
          ]
        }
      ]
    },
    {
      "cell_type": "code",
      "source": [
        "# Fetch data from the Bronze table\n",
        "rows_bronze = session.execute(\"SELECT * FROM example.bronze_sales\")\n",
        "\n",
        "for row in rows_bronze:\n",
        "    print(\n",
        "        row.order_id, row.region, row.country, row.item_type,\n",
        "        row.sales_channel, row.order_priority, row.order_date,\n",
        "        row.ship_date, row.units_sold, row.unit_price,\n",
        "        row.total_revenue, row.total_cost, row.total_profit\n",
        "    )\n",
        "\n",
        "print(\"Fetched data from Bronze table.\")\n"
      ],
      "metadata": {
        "colab": {
          "base_uri": "https://localhost:8080/"
        },
        "id": "wbcfCCaqcJFl",
        "outputId": "1aa141eb-c29d-47f8-a3e0-95c82e10c6ce"
      },
      "execution_count": null,
      "outputs": [
        {
          "output_type": "stream",
          "name": "stdout",
          "text": [
            "c4aacbab-ea48-4fee-8661-415c3ff1074a Europe Netherlands Fruits Online L 2016-11-19 2016-11-30 9887 9.33 92245.71 68418.04 23827.67\n",
            "89c27ba8-0b0e-4b7b-90f1-fc7ee73e6276 Europe France Cosmetics Online M 2015-12-07 2016-01-18 5758 437.2 2517397.6 1516254.14 1001143.46\n",
            "815341e7-ce7d-46c1-9628-40f2d898c2cd Central America and the Caribbean Dominica Beverages Online L 2012-06-12 2012-07-18 6301 47.45 298982.45 200308.79 98673.66\n",
            "fcf7626e-728c-4316-b211-c81a5d27d78a Europe Greece Cereal Online H 2015-08-22 2015-10-08 8674 205.7 1784241.8 1015812.14 768429.66\n",
            "ab3ccc76-56a8-4e04-b347-259ae5088ad3 Europe Estonia Household Offline H 2011-09-01 2011-10-21 9976 668.27 6666661.52 5013339.04 1653322.48\n",
            "d1502913-0187-42e4-b065-1c4f94f0daa9 Central America and the Caribbean Belize Personal Care Online H 2015-06-14 2015-08-02 3533 81.73 288752.09 200215.11 88536.98\n",
            "d5a3d3dc-7ac6-496a-94ce-4d284182606c Middle East and North Africa Lebanon Meat Online L 2017-03-08 2017-04-18 8770 421.89 3699975.3 3198331.3 501644.0\n",
            "e3b05ae9-bca0-4ce0-89d4-102f2e642a1a Asia Turkmenistan Vegetables Online M 2015-04-13 2015-06-02 6670 154.06 1027580.2 606503.1 421077.1\n",
            "95dfe7a4-cd4f-493e-88ae-7da608737722 Asia Kazakhstan Snacks Online L 2013-09-08 2013-10-25 1352 152.58 206288.16 131738.88 74549.28\n",
            "728b97bf-0999-4e64-994e-e79e6779b8a8 Sub-Saharan Africa Mali Household Offline M 2010-08-19 2010-09-07 4317 668.27 2884921.59 2169465.18 715456.41\n",
            "6d2f1e2e-114b-421d-ba85-4d519f5b280c Europe Finland Household Offline H 2016-01-15 2016-01-31 8148 668.27 5445063.96 4094695.92 1350368.04\n",
            "9f35b9b0-d4a1-4c87-a978-95f861279137 Australia and Oceania Samoa  Household Online L 2016-12-05 2016-12-08 5657 668.27 3780403.39 2842868.78 937534.61\n",
            "9244f88d-b320-44cf-a2de-eb40e944625c Sub-Saharan Africa Ghana Office Supplies Online L 2017-03-23 2017-04-15 896 651.21 583484.16 470364.16 113120.0\n",
            "7646063a-be22-4aab-9480-33e4ed3cfe43 Sub-Saharan Africa Tanzania Cosmetics Offline L 2016-05-23 2016-05-24 7768 437.2 3396169.6 2045547.44 1350622.16\n",
            "41057114-d38a-4a63-814e-c3b95109e5cc Sub-Saharan Africa Tanzania Beverages Online L 2016-11-30 2017-01-16 1476 47.45 70036.2 46922.04 23114.16\n",
            "5293e1e6-7615-414c-814f-577ac9f3b499 Central America and the Caribbean The Bahamas Fruits Offline L 2010-06-18 2010-06-30 4740 9.33 44224.2 32800.8 11423.4\n",
            "71599330-3b7f-45a5-a062-9665d6d425f0 Europe Czech Republic Cosmetics Online H 2014-03-22 2014-04-26 9157 437.2 4003440.4 2411312.81 1592127.59\n",
            "1aa51f2c-25f8-4394-8272-7240c9bed2f6 Sub-Saharan Africa Rwanda Fruits Online L 2012-09-05 2012-09-15 6059 9.33 56530.47 41928.28 14602.19\n",
            "759d56d9-faf9-4a00-bfc4-993a51ece441 Sub-Saharan Africa Ghana Clothes Online M 2011-11-02 2011-12-01 3836 109.28 419198.08 137482.24 281715.84\n",
            "888c0158-5685-4527-8a15-6cea6f19699f Australia and Oceania Papua New Guinea Meat Offline M 2015-05-15 2015-06-04 360 421.89 151880.4 131288.4 20592.0\n",
            "43068015-ac08-4422-9fba-d5da3034bd78 Central America and the Caribbean Dominica Household Offline C 2011-11-19 2011-12-13 7044 668.27 4707293.88 3539891.76 1167402.12\n",
            "83fdd2e7-5fd5-475c-a110-73b0ba6d0bb0 Asia Brunei Cereal Offline L 2013-05-28 2013-07-16 4222 205.7 868465.4 494438.42 374026.98\n",
            "0ba40cc3-1bae-448e-bc2c-eb89ba1467a9 Asia Japan Household Offline M 2014-07-16 2014-07-24 8393 668.27 5608790.11 4217818.22 1390971.89\n",
            "86444a42-560c-43ff-93ce-ed8cddd129c4 Central America and the Caribbean Dominican Republic Baby Food Offline H 2011-08-25 2011-09-24 274 255.28 69946.72 43681.08 26265.64\n",
            "b4e15d46-3a2a-4d73-af21-f9795a6dc769 Europe Serbia Clothes Offline L 2016-07-06 2016-07-13 7348 109.28 802989.44 263352.32 539637.12\n",
            "b44c6b6c-e949-40b3-9942-ea1ee1469762 Sub-Saharan Africa Zimbabwe Office Supplies Offline C 2011-03-28 2011-04-08 9623 651.21 6266593.83 5051690.08 1214903.75\n",
            "a43761e3-c5c7-486d-b80c-02326058fbf9 Europe Slovakia Beverages Offline L 2016-10-26 2016-12-04 3973 47.45 188518.85 126301.67 62217.18\n",
            "e2c80e62-83ea-41d9-9d9c-45625e96277f Australia and Oceania Solomon Islands Household Online M 2010-12-17 2010-12-28 4225 668.27 2823440.75 2123231.5 700209.25\n",
            "3506668d-f45d-4ad8-9083-10119cd6823c Australia and Oceania Vanuatu Cereal Offline C 2014-06-20 2014-08-05 5681 205.7 1168581.7 665301.91 503279.79\n",
            "e938e7b8-82a2-4f63-b037-589b29d9b1c6 Sub-Saharan Africa Mauritius  Clothes Offline M 2012-11-17 2012-12-02 5520 109.28 603225.6 197836.8 405388.8\n",
            "e3a472cb-ac50-4c57-bb28-7a149ffb3882 Asia Singapore Snacks Online C 2013-01-28 2013-02-07 7676 152.58 1171204.08 747949.44 423254.64\n",
            "b9dbe407-db98-4dec-9d9f-e820c11388ad Europe Sweden Beverages Online H 2012-09-13 2012-10-12 2485 47.45 117913.25 78998.15 38915.1\n",
            "e9b0e16a-7763-4d3a-a388-464fe65a3d43 Middle East and North Africa Egypt Clothes Online C 2016-08-09 2016-08-24 1192 109.28 130261.76 42721.28 87540.48\n",
            "660eff95-7de6-4e44-9f86-7698e0a30cdb Australia and Oceania East Timor Cereal Offline M 2015-12-07 2015-12-30 259 205.7 53276.3 30331.49 22944.81\n",
            "c614c1b9-f4b1-48c4-bab6-6a09b3a4478e Sub-Saharan Africa Seychelles  Beverages Online M 2013-01-18 2013-02-16 597 47.45 28327.65 18978.63 9349.02\n",
            "c7996211-6e26-43da-92b2-5123330b890e Asia Thailand Meat Online C 2015-02-04 2015-02-19 4401 421.89 1856737.89 1605000.69 251737.2\n",
            "9b7a08f5-6cb2-4717-9758-29a19fa102d6 Asia Indonesia Household Online C 2011-09-28 2011-09-28 623 668.27 416332.21 313082.42 103249.79\n",
            "1ea32d01-2fe4-4fe0-ab27-323ed30de246 Middle East and North Africa United Arab Emirates Office Supplies Online M 2012-06-23 2012-07-06 9603 651.21 6253569.63 5041190.88 1212378.75\n",
            "07ded682-dab2-405d-9b3e-2f2fc43532b0 Asia Sri Lanka Fruits Online L 2011-11-07 2011-12-18 1379 9.33 12866.07 9542.68 3323.39\n",
            "5bca67db-026f-4f7b-8e22-b4438cd18df7 Europe United Kingdom Cosmetics Online L 2015-05-01 2015-05-16 1038 437.2 453813.6 273336.54 180477.06\n",
            "9e613923-c04e-4a24-ba2a-4a984e2b7ffb Central America and the Caribbean Nicaragua Baby Food Online L 2016-11-11 2016-11-16 2891 255.28 738014.48 460883.22 277131.26\n",
            "3b939ccf-34fe-4ac1-8420-c41d83b02634 Asia Malaysia Beverages Online M 2014-11-13 2014-12-28 9154 47.45 434357.3 291005.66 143351.64\n",
            "458284e6-d35e-4bde-ab4f-19a739915fa4 Middle East and North Africa Oman Cosmetics Online H 2010-11-29 2010-12-28 7937 437.2 3470056.4 2090050.21 1380006.19\n",
            "639d2717-4ba6-490e-9969-051849fcb40b Sub-Saharan Africa Ethiopia Cosmetics Online M 2011-07-07 2011-07-25 662 437.2 289426.4 174324.46 115101.94\n",
            "f6c763be-cc91-45c5-9958-8d59bc6812fc Middle East and North Africa Morocco Clothes Online M 2013-09-14 2013-10-19 4611 109.28 503890.08 165258.24 338631.84\n",
            "f138a3df-7a4b-404b-8de0-2feb441efe74 Sub-Saharan Africa Democratic Republic of the Congo Cosmetics Online M 2012-10-07 2012-10-25 2967 437.2 1297172.4 781300.11 515872.29\n",
            "a0273f06-5ae0-4c4f-a9e3-cc88a254b891 Europe Romania Cereal Online M 2015-04-16 2015-04-18 7337 205.7 1509220.9 859236.07 649984.83\n",
            "0e960b34-86d2-472f-80f7-77f172366374 Europe Switzerland Office Supplies Offline C 2014-07-29 2014-08-27 5639 651.21 3672173.19 2960249.44 711923.75\n",
            "8d240cd1-5601-468c-b8ae-d396f3f45d8e Europe Albania Personal Care Offline M 2016-02-06 2016-02-11 1543 81.73 126109.39 87441.81 38667.58\n",
            "af6224fe-69f7-49eb-9883-3ded01e5c5e7 Central America and the Caribbean Nicaragua Household Online C 2015-10-28 2015-12-07 7791 668.27 5206491.57 3915289.14 1291202.43\n",
            "2b02fc1c-5e4c-4620-99cf-23b3f3e00491 Asia Thailand Fruits Offline C 2012-09-30 2012-11-14 1555 9.33 14508.15 10760.6 3747.55\n",
            "ff08a274-ef67-45f5-abbd-575b5efd4f72 Sub-Saharan Africa Tanzania Fruits Offline H 2014-10-20 2014-11-29 9599 9.33 89558.67 66425.08 23133.59\n",
            "fd08aab9-9cc1-4ceb-8282-4829962893df Sub-Saharan Africa Liberia Baby Food Offline H 2015-06-06 2015-06-12 1324 255.28 337990.72 211072.08 126918.64\n",
            "4b725adb-3d94-4c09-b4e5-e3bf99f89e93 Europe Moldova  Fruits Online C 2013-01-27 2013-03-03 3736 9.33 34856.88 25853.12 9003.76\n",
            "d625a3aa-1176-465f-bd46-beaecf2aed24 Sub-Saharan Africa Djibouti Clothes Offline H 2017-05-17 2017-07-02 562 109.28 61415.36 20142.08 41273.28\n",
            "25f7ca98-79ae-4819-a299-82466f995e41 Sub-Saharan Africa South Africa Fruits Offline M 2012-07-27 2012-07-28 1593 9.33 14862.69 11023.56 3839.13\n",
            "f03a5a30-bfde-4289-846c-64f81b85f1e4 Asia Taiwan Fruits Offline M 2014-02-09 2014-02-23 8034 9.33 74957.22 55595.28 19361.94\n",
            "f3eb8c4f-ad16-46cf-9c3c-ad1163be4350 Middle East and North Africa Tunisia  Cosmetics Offline H 2012-07-01 2012-07-20 2450 437.2 1071140.0 645158.5 425981.5\n",
            "8c154093-4cac-41e8-b15d-a5e49bec3946 Europe Monaco Beverages Offline M 2016-05-29 2016-06-14 2609 47.45 123797.05 82940.11 40856.94\n",
            "a6912ae6-5c79-405d-b382-2efbb69f7de8 Middle East and North Africa Pakistan Meat Online M 2013-12-28 2014-02-15 9969 421.89 4205821.41 3635594.61 570226.8\n",
            "8913dc43-d3bc-4fbc-bc47-7122f61127a2 Middle East and North Africa Kuwait Household Offline C 2011-06-13 2011-07-21 1466 668.27 979683.82 736723.64 242960.18\n",
            "c9c07fee-b01f-490c-a0b2-25f23bb6ef11 Europe Iceland Baby Food Offline M 2010-10-02 2010-11-03 2462 255.28 628499.36 392492.04 236007.32\n",
            "de3f72ef-37fa-456b-8cd9-ab0642d913f0 Sub-Saharan Africa Togo Cosmetics Online M 2015-09-08 2015-09-09 4806 437.2 2101183.2 1265563.98 835619.22\n",
            "8412bab5-7cd5-4e20-83a9-ace55951d72b Asia South Korea Meat Offline L 2016-03-16 2016-04-20 7141 421.89 3012716.49 2604251.29 408465.2\n",
            "70ae0a01-4bd3-440e-ac00-04142282fc38 Europe Montenegro Clothes Offline M 2016-09-04 2016-09-08 2117 109.28 231345.76 75873.28 155472.48\n",
            "20a4ba54-5f21-47aa-900c-98c29b1a838d Asia Taiwan Cereal Online H 2010-04-11 2010-05-26 9397 205.7 1932962.9 1100482.67 832480.23\n",
            "0560707d-07a7-44af-938d-1b43b6c30716 North America United States of America Personal Care Online H 2016-01-21 2016-02-19 4264 81.73 348496.72 241640.88 106855.84\n",
            "5940c931-9086-4726-af98-978e47cc27df Europe Belgium Personal Care Online H 2011-11-01 2011-11-20 2827 81.73 231050.71 160206.09 70844.62\n",
            "97b2cede-5e25-4b6b-a7d6-384a41219993 Asia China Office Supplies Online M 2016-02-10 2016-03-29 5791 651.21 3771157.11 3040043.36 731113.75\n",
            "834eef8a-5807-4c5d-8347-1fb864fb3d73 Europe Italy Cereal Online M 2011-11-15 2011-12-28 7080 205.7 1456356.0 829138.8 627217.2\n",
            "99636c70-0055-4ca5-a23f-38d8cbe06f20 Asia Nepal Meat Online H 2014-02-21 2014-03-14 9496 421.89 4006267.44 3463096.24 543171.2\n",
            "58ab2a98-66be-45b5-ab7d-5d2eaf656685 Sub-Saharan Africa Malawi Meat Offline H 2016-03-01 2016-03-12 5094 421.89 2149107.66 1857730.86 291376.8\n",
            "0921ea15-04a2-4967-b214-e66b04d815aa Europe Albania Baby Food Offline H 2012-07-19 2012-08-13 7890 255.28 2014159.2 1257823.8 756335.4\n",
            "67e76820-9a5d-45b4-b380-a6172e5d0657 Central America and the Caribbean Saint Lucia Fruits Offline L 2015-12-12 2016-01-12 3581 9.33 33410.73 24780.52 8630.21\n",
            "259ee6c5-1531-44a1-a5e3-67db424c79c7 Central America and the Caribbean The Bahamas Personal Care Online C 2011-01-19 2011-02-21 9137 81.73 746767.01 517793.79 228973.22\n",
            "2be4e87f-8f9b-4b3f-9054-21c5811be01e Europe Italy Cereal Online C 2015-11-30 2015-12-05 3126 205.7 643018.2 366085.86 276932.34\n",
            "8acd2152-2c0c-40bf-b57f-bd69ec2b6146 Australia and Oceania New Zealand Beverages Online M 2012-10-11 2012-11-04 5788 47.45 274640.6 184000.52 90640.08\n",
            "0e8118ff-03b0-41df-a729-7fd120e517f9 Central America and the Caribbean Antigua and Barbuda  Office Supplies Offline C 2011-10-02 2011-10-04 6297 651.21 4100669.37 3305673.12 794996.25\n",
            "29e57771-2b95-4525-a55d-8b4b7180eb43 Sub-Saharan Africa The Gambia Fruits Online C 2011-11-20 2011-11-22 8699 9.33 81161.67 60197.08 20964.59\n",
            "c8900f1a-61c1-4577-90c3-132bad962b55 Sub-Saharan Africa Madagascar Clothes Online L 2016-10-17 2016-10-26 3110 109.28 339860.8 111462.4 228398.4\n",
            "2b81ffeb-74fd-4b7e-860a-fa98e9498231 Sub-Saharan Africa Uganda Cosmetics Online M 2015-02-28 2015-03-15 6031 437.2 2636753.2 1588143.23 1048609.97\n",
            "8be32ed3-2a0a-48bc-987b-ef1a4e786b7e Sub-Saharan Africa Burundi Beverages Online H 2011-03-09 2011-04-09 3533 47.45 167640.85 112314.07 55326.78\n",
            "a2ad5eb4-f6dc-485a-9d2f-46b1f086c818 Sub-Saharan Africa Uganda Personal Care Online M 2014-06-19 2014-07-21 451 81.73 36860.23 25558.17 11302.06\n",
            "b5039d2b-c1f8-4a41-9681-714ac3676ea8 Middle East and North Africa Algeria Cosmetics Online M 2011-02-18 2011-02-24 9669 437.2 4227286.8 2546137.77 1681149.03\n",
            "55b19be9-2ae6-4d80-bfd0-ff913e79611c Europe Italy Office Supplies Online H 2011-03-29 2011-04-11 2913 651.21 1896974.73 1529208.48 367766.25\n",
            "e24b5014-2e5c-4160-8b65-9998eaac0f93 Australia and Oceania Vanuatu Fruits Online C 2013-11-03 2013-11-11 5735 9.33 53507.55 39686.2 13821.35\n",
            "d2c2d3e3-b45b-4b51-98da-c46d988277c9 Europe Finland Vegetables Offline C 2012-10-09 2012-11-27 698 154.06 107533.88 63469.14 44064.74\n",
            "bcb80453-2740-42c0-a117-59bea586db7b Asia Vietnam Personal Care Online M 2010-04-04 2010-05-06 7984 81.73 652532.32 452453.28 200079.04\n",
            "15e38150-6289-469a-9053-add0f9b8c520 Asia Turkmenistan Meat Online M 2017-04-30 2017-05-14 5206 421.89 2196359.34 1898576.14 297783.2\n",
            "29c7ff49-964e-4cb7-8926-d0c2840cb3c6 Asia India Snacks Online L 2012-10-10 2012-11-20 5349 152.58 816150.42 521206.56 294943.86\n",
            "92218660-c1d5-450e-ad3e-40862dd2cafb Central America and the Caribbean Haiti Office Supplies Online C 2010-12-31 2011-01-31 2052 651.21 1336282.92 1077217.92 259065.0\n",
            "1f9480c8-6e83-491b-a6b6-cea909419628 Asia Indonesia Personal Care Offline L 2012-10-22 2012-10-31 9306 81.73 760579.38 527371.02 233208.36\n",
            "8ebfb4d4-4471-4bd7-b381-4ecdc66f36bb Australia and Oceania Papua New Guinea Clothes Offline L 2011-06-20 2011-07-14 9092 109.28 993573.76 325857.28 667716.48\n",
            "7d0bce37-9bf0-45be-81bd-770980fd5135 Europe Romania Beverages Online M 2012-02-19 2012-03-13 4581 47.45 217368.45 145629.99 71738.46\n",
            "684546a0-bc86-42f6-8fd4-bd8b4f77a2a1 Sub-Saharan Africa Ghana Fruits Offline M 2016-05-29 2016-06-04 1323 9.33 12343.59 9155.16 3188.43\n",
            "eebeb864-c09b-49b9-a020-130728165205 Middle East and North Africa Israel Beverages Offline H 2013-09-08 2013-10-13 4709 47.45 223442.05 149699.11 73742.94\n",
            "ae1c6bd1-12cd-4764-80a8-e3c8cd36d6ee Australia and Oceania Tonga Baby Food Online L 2016-05-11 2016-05-31 5531 255.28 1411953.68 881752.02 530201.66\n",
            "fe268601-20bd-433b-a28e-7fadb6079890 Sub-Saharan Africa Sao Tome and Principe Clothes Offline L 2015-11-11 2015-12-28 2760 109.28 301612.8 98918.4 202694.4\n",
            "88079e7b-f1bc-4e2f-a8e8-176355291713 North America Canada Cosmetics Online H 2011-05-09 2011-06-02 7464 437.2 3263260.8 1965495.12 1297765.68\n",
            "Fetched data from Bronze table.\n"
          ]
        }
      ]
    },
    {
      "cell_type": "code",
      "source": [
        "# Fetch data from the Silver table\n",
        "rows_silver = session.execute(\"SELECT * FROM example.silver_sales\")\n",
        "\n",
        "for row in rows_silver:\n",
        "    print(\n",
        "        row.order_id, row.region, row.country, row.item_type,\n",
        "        row.sales_channel, row.order_date, row.ship_date,\n",
        "        row.units_sold, row.unit_price, row.total_revenue,\n",
        "        row.total_cost, row.profit_margin\n",
        "    )\n",
        "\n",
        "print(\"Fetched data from Silver table.\")\n"
      ],
      "metadata": {
        "colab": {
          "base_uri": "https://localhost:8080/"
        },
        "id": "DNnYwS7pchZ2",
        "outputId": "c18577c7-e9eb-42e7-a8aa-0e961ade1a10"
      },
      "execution_count": null,
      "outputs": [
        {
          "output_type": "stream",
          "name": "stdout",
          "text": [
            "c162cb7a-8d9e-4113-8064-75a62e32998b Australia and Oceania East Timor Cereal Offline 2015-12-07 2015-12-30 259 205.7 53276.3 30331.49 43.06757413709285\n",
            "d84bb2c4-7f06-46ec-9288-9886ef305dfb Sub-Saharan Africa Uganda Personal Care Online 2014-06-19 2014-07-21 451 81.73 36860.23 25558.17 30.661935641747213\n",
            "c4025fbe-925f-42fb-b682-f9fe5fdf62e4 Europe Romania Cereal Online 2015-04-16 2015-04-18 7337 205.7 1509220.9 859236.07 43.06757413709285\n",
            "a679c862-74c4-490d-afd0-a44fe04b2c96 Australia and Oceania Papua New Guinea Meat Offline 2015-05-15 2015-06-04 360 421.89 151880.4 131288.4 13.558036455000119\n",
            "64582bea-6443-461a-a914-2c78c3df488a Sub-Saharan Africa Uganda Cosmetics Online 2015-02-28 2015-03-15 6031 437.2 2636753.2 1588143.23 39.76898444647758\n",
            "0a224ac2-8b6a-485c-8cf1-7eb24c7a7d2f Europe Finland Household Offline 2016-01-15 2016-01-31 8148 668.27 5445063.96 4094695.92 24.7998563454891\n",
            "ad958e0a-5927-4776-989e-6a80fb893388 Europe United Kingdom Cosmetics Online 2015-05-01 2015-05-16 1038 437.2 453813.6 273336.54 39.76898444647758\n",
            "13376473-b3d3-4a17-a0ef-e9eab939eba5 Central America and the Caribbean Saint Lucia Fruits Offline 2015-12-12 2016-01-12 3581 9.33 33410.73 24780.52 25.830653804930325\n",
            "83ad791c-0805-485d-b55c-e8893be24b9f Europe Montenegro Clothes Offline 2016-09-04 2016-09-08 2117 109.28 231345.76 75873.28 67.20351390922401\n",
            "39835a21-416a-4a6c-9ba6-82908d1c1f32 Sub-Saharan Africa The Gambia Fruits Online 2011-11-20 2011-11-22 8699 9.33 81161.67 60197.08 25.830653804930332\n",
            "c0b6622c-fdeb-4a63-9273-12c6eb43a3dd Asia China Office Supplies Online 2016-02-10 2016-03-29 5791 651.21 3771157.11 3040043.36 19.386987300563565\n",
            "6f58fa78-1e55-4d45-9dcf-66d9c3f01ef2 Central America and the Caribbean Belize Personal Care Online 2015-06-14 2015-08-02 3533 81.73 288752.09 200215.11 30.661935641747213\n",
            "7727a007-654c-4e61-9bb1-d7b65b8a17c6 Asia Brunei Cereal Offline 2013-05-28 2013-07-16 4222 205.7 868465.4 494438.42 43.06757413709285\n",
            "957e24ba-0976-4dee-8562-c9bd44b1a5f0 Asia Taiwan Cereal Online 2010-04-11 2010-05-26 9397 205.7 1932962.9 1100482.67 43.067574137092855\n",
            "426ac619-20da-4d4c-9102-ee3117ae9ea4 Sub-Saharan Africa Liberia Baby Food Offline 2015-06-06 2015-06-12 1324 255.28 337990.72 211072.08 37.550924475086184\n",
            "6014f5ba-16e6-4aa6-8841-810af3dd1905 Europe Serbia Clothes Offline 2016-07-06 2016-07-13 7348 109.28 802989.44 263352.32 67.20351390922401\n",
            "4b923fcf-e8ee-4f5b-9ffc-dfdd12c92805 Middle East and North Africa Tunisia  Cosmetics Offline 2012-07-01 2012-07-20 2450 437.2 1071140.0 645158.5 39.76898444647758\n",
            "04f6dd0a-5c2f-47da-90d7-e7dcaf2c1863 Europe Finland Vegetables Offline 2012-10-09 2012-11-27 698 154.06 107533.88 63469.14 40.97754121770738\n",
            "e821bca3-6128-49e2-8688-dc5c78a18ff2 Asia Thailand Fruits Offline 2012-09-30 2012-11-14 1555 9.33 14508.15 10760.6 25.830653804930336\n",
            "aba474fa-11d7-4a22-961f-2c338ea3672b Central America and the Caribbean Dominica Beverages Online 2012-06-12 2012-07-18 6301 47.45 298982.45 200308.79 33.00316122233931\n",
            "eab14cae-bab4-4221-8091-7f032fded0f2 Sub-Saharan Africa Ghana Office Supplies Online 2017-03-23 2017-04-15 896 651.21 583484.16 470364.16 19.386987300563565\n",
            "64261a0f-902a-480e-aa09-c91e36f7a30d Middle East and North Africa Algeria Cosmetics Online 2011-02-18 2011-02-24 9669 437.2 4227286.8 2546137.77 39.76898444647758\n",
            "cad313c0-6811-4977-acae-94eb53257960 Sub-Saharan Africa Malawi Meat Offline 2016-03-01 2016-03-12 5094 421.89 2149107.66 1857730.86 13.558036455000117\n",
            "6b51b9d1-0148-4637-8682-f022c778605c North America United States of America Personal Care Online 2016-01-21 2016-02-19 4264 81.73 348496.72 241640.88 30.661935641747217\n",
            "7f5727ac-cf89-4c2c-a1d6-8553e047f88b Central America and the Caribbean Haiti Office Supplies Online 2010-12-31 2011-01-31 2052 651.21 1336282.92 1077217.92 19.38698730056357\n",
            "6c85e0bb-5ac9-4416-bb6e-5fa82e3f5413 Europe Italy Cereal Online 2015-11-30 2015-12-05 3126 205.7 643018.2 366085.86 43.06757413709286\n",
            "d19ccf01-8147-4cef-bd16-02b84d8602d7 Middle East and North Africa Israel Beverages Offline 2013-09-08 2013-10-13 4709 47.45 223442.05 149699.11 33.00316122233931\n",
            "d123ae62-5067-4f9e-a12c-9dcc7e6b8b64 Sub-Saharan Africa Ethiopia Cosmetics Online 2011-07-07 2011-07-25 662 437.2 289426.4 174324.46 39.76898444647758\n",
            "bc3b0bf0-0697-41b1-a219-6909716c5e7d Sub-Saharan Africa Burundi Beverages Online 2011-03-09 2011-04-09 3533 47.45 167640.85 112314.07 33.0031612223393\n",
            "a2e336b5-c5e7-4d03-ab14-80039b7d9dd7 Central America and the Caribbean Antigua and Barbuda  Office Supplies Offline 2011-10-02 2011-10-04 6297 651.21 4100669.37 3305673.12 19.386987300563565\n",
            "ab5251c2-436d-42f7-8079-1cc28c4dcbc8 North America Canada Cosmetics Online 2011-05-09 2011-06-02 7464 437.2 3263260.8 1965495.12 39.76898444647758\n",
            "85a7cc79-515b-478c-92cf-40b8f6ee2882 Sub-Saharan Africa Mauritius  Clothes Offline 2012-11-17 2012-12-02 5520 109.28 603225.6 197836.8 67.20351390922401\n",
            "452326a2-a50c-4443-aa1c-62c420748e26 Europe France Cosmetics Online 2015-12-07 2016-01-18 5758 437.2 2517397.6 1516254.14 39.76898444647758\n",
            "e8789566-757d-4ceb-b28e-2e541edbd408 Sub-Saharan Africa Togo Cosmetics Online 2015-09-08 2015-09-09 4806 437.2 2101183.2 1265563.98 39.76898444647758\n",
            "31649d76-478a-4ed0-b752-1b32d5212249 Asia Indonesia Household Online 2011-09-28 2011-09-28 623 668.27 416332.21 313082.42 24.799856345489097\n",
            "7c8902fe-e0b9-4af7-8506-efe8581491d5 Australia and Oceania Samoa  Household Online 2016-12-05 2016-12-08 5657 668.27 3780403.39 2842868.78 24.799856345489097\n",
            "450cd08c-0e23-4108-a488-2989c9539c20 Asia Japan Household Offline 2014-07-16 2014-07-24 8393 668.27 5608790.11 4217818.22 24.799856345489097\n",
            "9e646315-9a3b-4f60-97e9-513ebffede8a Europe Belgium Personal Care Online 2011-11-01 2011-11-20 2827 81.73 231050.71 160206.09 30.661935641747217\n",
            "622b4bd5-fdb7-46c6-9a6c-157b2fe4269e Europe Albania Personal Care Offline 2016-02-06 2016-02-11 1543 81.73 126109.39 87441.81 30.661935641747217\n",
            "e3d12459-de14-4b30-bc12-e79daeb05856 Sub-Saharan Africa Democratic Republic of the Congo Cosmetics Online 2012-10-07 2012-10-25 2967 437.2 1297172.4 781300.11 39.76898444647758\n",
            "0658028a-faef-4b3d-9c56-6cc36463f20f Europe Italy Office Supplies Online 2011-03-29 2011-04-11 2913 651.21 1896974.73 1529208.48 19.386987300563565\n",
            "17f464ac-caed-47e7-bdf5-c73980ba195f Sub-Saharan Africa Djibouti Clothes Offline 2017-05-17 2017-07-02 562 109.28 61415.36 20142.08 67.20351390922401\n",
            "4dd8ede3-df39-447b-a90c-718063677118 Europe Estonia Household Offline 2011-09-01 2011-10-21 9976 668.27 6666661.52 5013339.04 24.7998563454891\n",
            "54cc0fa9-85e3-4719-bac9-5c8f6e2ad813 Asia Turkmenistan Vegetables Online 2015-04-13 2015-06-02 6670 154.06 1027580.2 606503.1 40.97754121770738\n",
            "38975f40-689b-4524-8dd1-028c32a564ef Asia Indonesia Personal Care Offline 2012-10-22 2012-10-31 9306 81.73 760579.38 527371.02 30.661935641747213\n",
            "c7cd2f1c-0c4c-4932-b2b8-8ed5d3bfdb4b Europe Czech Republic Cosmetics Online 2014-03-22 2014-04-26 9157 437.2 4003440.4 2411312.81 39.76898444647759\n",
            "36cde9cd-20d2-43b6-98d3-2ff50dbed38c Asia Sri Lanka Fruits Online 2011-11-07 2011-12-18 1379 9.33 12866.07 9542.68 25.830653804930332\n",
            "683f8f1f-f81c-41b0-b704-2fe2642b1dc2 Central America and the Caribbean Nicaragua Household Online 2015-10-28 2015-12-07 7791 668.27 5206491.57 3915289.14 24.799856345489097\n",
            "2b01aeca-4794-4aa4-b624-28f92b2f69fe Europe Italy Cereal Online 2011-11-15 2011-12-28 7080 205.7 1456356.0 829138.8 43.06757413709285\n",
            "cd735974-ef31-4f3d-8936-f53c4e138980 Europe Albania Baby Food Offline 2012-07-19 2012-08-13 7890 255.28 2014159.2 1257823.8 37.550924475086184\n",
            "9f0dbbfd-ee44-4516-a4ba-2255857047d8 Sub-Saharan Africa Tanzania Beverages Online 2016-11-30 2017-01-16 1476 47.45 70036.2 46922.04 33.00316122233931\n",
            "967772c9-11b2-477b-bf7c-c4385631a275 Asia Malaysia Beverages Online 2014-11-13 2014-12-28 9154 47.45 434357.3 291005.66 33.00316122233931\n",
            "93d24d8f-a339-4621-80be-12bb61d9e22b Central America and the Caribbean The Bahamas Fruits Offline 2010-06-18 2010-06-30 4740 9.33 44224.2 32800.8 25.830653804930332\n",
            "999886d4-8783-426a-b871-3f63249d27e5 Europe Moldova  Fruits Online 2013-01-27 2013-03-03 3736 9.33 34856.88 25853.12 25.830653804930336\n",
            "b0d934bd-e86d-4cb7-b82e-05c2c1f203c8 Middle East and North Africa Pakistan Meat Online 2013-12-28 2014-02-15 9969 421.89 4205821.41 3635594.61 13.558036455000119\n",
            "5c968f36-7238-4ce7-8491-74209f45bdbb Sub-Saharan Africa Seychelles  Beverages Online 2013-01-18 2013-02-16 597 47.45 28327.65 18978.63 33.00316122233931\n",
            "5c0c3ccf-033f-48ea-b570-6e173a6ae6c4 Europe Sweden Beverages Online 2012-09-13 2012-10-12 2485 47.45 117913.25 78998.15 33.00316122233931\n",
            "2e6304c7-8cf5-491e-82ec-e8ae5cb58b40 Middle East and North Africa Egypt Clothes Online 2016-08-09 2016-08-24 1192 109.28 130261.76 42721.28 67.20351390922401\n",
            "2b68405d-bcbf-46a9-820a-52958c1db5bf Asia Vietnam Personal Care Online 2010-04-04 2010-05-06 7984 81.73 652532.32 452453.28 30.661935641747217\n",
            "916d1902-7df6-42e0-a1a2-94d5cf48e7d4 Central America and the Caribbean Nicaragua Baby Food Online 2016-11-11 2016-11-16 2891 255.28 738014.48 460883.22 37.550924475086184\n",
            "f0f0c4a2-4f81-4ff4-81be-a4d094bd2305 Middle East and North Africa Lebanon Meat Online 2017-03-08 2017-04-18 8770 421.89 3699975.3 3198331.3 13.558036455000119\n",
            "81d7a4b1-7bf6-4234-b983-bf1f0255822d Asia Singapore Snacks Online 2013-01-28 2013-02-07 7676 152.58 1171204.08 747949.44 36.138419189933146\n",
            "c4760399-13c0-416f-b054-a6b0df4cf674 Australia and Oceania Papua New Guinea Clothes Offline 2011-06-20 2011-07-14 9092 109.28 993573.76 325857.28 67.20351390922401\n",
            "0b7d09c3-09ff-4de4-816a-2544216f0891 Central America and the Caribbean Dominican Republic Baby Food Offline 2011-08-25 2011-09-24 274 255.28 69946.72 43681.08 37.55092447508618\n",
            "b317b04d-733c-4963-99dc-a71d7da8748b Europe Switzerland Office Supplies Offline 2014-07-29 2014-08-27 5639 651.21 3672173.19 2960249.44 19.386987300563565\n",
            "6f4f5e02-bca1-441d-adce-c51bf3d09b98 Europe Iceland Baby Food Offline 2010-10-02 2010-11-03 2462 255.28 628499.36 392492.04 37.550924475086184\n",
            "689534a0-4442-4a3c-b246-5f226879d210 Sub-Saharan Africa Zimbabwe Office Supplies Offline 2011-03-28 2011-04-08 9623 651.21 6266593.83 5051690.08 19.386987300563565\n",
            "644c8da1-0968-47f9-98e6-d65365da88bf Asia Turkmenistan Meat Online 2017-04-30 2017-05-14 5206 421.89 2196359.34 1898576.14 13.558036455000119\n",
            "7cd46b57-e78b-47aa-86b5-8cb6276a5f26 Europe Greece Cereal Online 2015-08-22 2015-10-08 8674 205.7 1784241.8 1015812.14 43.067574137092855\n",
            "f944d442-f9c7-4e39-bc92-f4c4d1938902 Australia and Oceania Vanuatu Fruits Online 2013-11-03 2013-11-11 5735 9.33 53507.55 39686.2 25.830653804930332\n",
            "0d3532d5-04fc-4d9f-a28e-5edb4b8152da Asia Nepal Meat Online 2014-02-21 2014-03-14 9496 421.89 4006267.44 3463096.24 13.558036455000117\n",
            "597d825b-73ff-42cb-b4c0-12d7dc5df08a Sub-Saharan Africa Rwanda Fruits Online 2012-09-05 2012-09-15 6059 9.33 56530.47 41928.28 25.830653804930332\n",
            "96599400-13fb-4166-b076-566ca0e65dfb Asia Kazakhstan Snacks Online 2013-09-08 2013-10-25 1352 152.58 206288.16 131738.88 36.138419189933146\n",
            "ff8b9091-6436-49c2-8271-9ed6cc858364 Australia and Oceania New Zealand Beverages Online 2012-10-11 2012-11-04 5788 47.45 274640.6 184000.52 33.00316122233931\n",
            "d7c15d2b-896f-4538-a67f-1754d70b8053 Asia India Snacks Online 2012-10-10 2012-11-20 5349 152.58 816150.42 521206.56 36.138419189933146\n",
            "90ba4664-9517-4b5e-b767-20932825e817 Middle East and North Africa Morocco Clothes Online 2013-09-14 2013-10-19 4611 109.28 503890.08 165258.24 67.20351390922401\n",
            "1d00e6e2-9389-4e53-adb1-4becbeeba9e7 Sub-Saharan Africa Ghana Clothes Online 2011-11-02 2011-12-01 3836 109.28 419198.08 137482.24 67.20351390922401\n",
            "2cefe06f-256f-4eb0-bef6-08594d9162d5 Middle East and North Africa United Arab Emirates Office Supplies Online 2012-06-23 2012-07-06 9603 651.21 6253569.63 5041190.88 19.386987300563565\n",
            "01ca6aba-64b4-4232-803d-678d75345f44 Sub-Saharan Africa South Africa Fruits Offline 2012-07-27 2012-07-28 1593 9.33 14862.69 11023.56 25.830653804930332\n",
            "b5542c5f-0054-40c3-a353-ed4cbef72029 Asia Taiwan Fruits Offline 2014-02-09 2014-02-23 8034 9.33 74957.22 55595.28 25.830653804930332\n",
            "4e32499e-6d48-4887-919b-7387e2325dea Middle East and North Africa Oman Cosmetics Online 2010-11-29 2010-12-28 7937 437.2 3470056.4 2090050.21 39.76898444647758\n",
            "c1a9a3dc-1323-4c64-a6c6-7d40de512792 Central America and the Caribbean Dominica Household Offline 2011-11-19 2011-12-13 7044 668.27 4707293.88 3539891.76 24.7998563454891\n",
            "5b54df69-fef4-4bbb-b0c9-dc9f469c25e5 Sub-Saharan Africa Mali Household Offline 2010-08-19 2010-09-07 4317 668.27 2884921.59 2169465.18 24.7998563454891\n",
            "6c273394-79f1-4e62-8c31-692e0f1135bf Sub-Saharan Africa Sao Tome and Principe Clothes Offline 2015-11-11 2015-12-28 2760 109.28 301612.8 98918.4 67.20351390922401\n",
            "66905412-2c8a-49d8-a7f8-013524ffe7b3 Australia and Oceania Vanuatu Cereal Offline 2014-06-20 2014-08-05 5681 205.7 1168581.7 665301.91 43.06757413709285\n",
            "f640fe09-078d-4880-bf25-b24a1ac0f3cc Australia and Oceania Tonga Baby Food Online 2016-05-11 2016-05-31 5531 255.28 1411953.68 881752.02 37.550924475086184\n",
            "cacbccb9-83f1-4104-bd60-688f5c72398d Sub-Saharan Africa Tanzania Fruits Offline 2014-10-20 2014-11-29 9599 9.33 89558.67 66425.08 25.830653804930332\n",
            "3f7092b7-8faf-4073-a82d-045741cd2f75 Central America and the Caribbean The Bahamas Personal Care Online 2011-01-19 2011-02-21 9137 81.73 746767.01 517793.79 30.661935641747217\n",
            "9603ad5b-0a0b-448c-b5b0-c82732978d6c Europe Romania Beverages Online 2012-02-19 2012-03-13 4581 47.45 217368.45 145629.99 33.00316122233931\n",
            "a8d0918f-4420-49e8-bf1f-9bf2fa305a59 Sub-Saharan Africa Tanzania Cosmetics Offline 2016-05-23 2016-05-24 7768 437.2 3396169.6 2045547.44 39.76898444647758\n",
            "82cb315b-a72b-4d12-9aba-e4206a40ae42 Asia South Korea Meat Offline 2016-03-16 2016-04-20 7141 421.89 3012716.49 2604251.29 13.558036455000119\n",
            "433bb57d-e6bd-4135-9118-d6873b656cb1 Europe Netherlands Fruits Online 2016-11-19 2016-11-30 9887 9.33 92245.71 68418.04 25.830653804930325\n",
            "7f83e3a7-211a-47b7-9946-14a02f15dbf5 Sub-Saharan Africa Madagascar Clothes Online 2016-10-17 2016-10-26 3110 109.28 339860.8 111462.4 67.20351390922401\n",
            "6e566291-0a31-4ac6-9a4b-05eea50807da Asia Thailand Meat Online 2015-02-04 2015-02-19 4401 421.89 1856737.89 1605000.69 13.558036455000119\n",
            "fe45d9a7-e171-4866-8310-e9de73711e1e Australia and Oceania Solomon Islands Household Online 2010-12-17 2010-12-28 4225 668.27 2823440.75 2123231.5 24.7998563454891\n",
            "5bf932eb-a1a6-4643-9b6e-c73ab046d85c Europe Slovakia Beverages Offline 2016-10-26 2016-12-04 3973 47.45 188518.85 126301.67 33.00316122233931\n",
            "4afe0a26-d288-481c-ae3d-9a12de7e6b57 Middle East and North Africa Kuwait Household Offline 2011-06-13 2011-07-21 1466 668.27 979683.82 736723.64 24.7998563454891\n",
            "af93eb03-999c-4e8a-bb51-ff057725a817 Europe Monaco Beverages Offline 2016-05-29 2016-06-14 2609 47.45 123797.05 82940.11 33.00316122233931\n",
            "4029d6a6-2cd9-420c-bb1d-af37419f150c Sub-Saharan Africa Ghana Fruits Offline 2016-05-29 2016-06-04 1323 9.33 12343.59 9155.16 25.830653804930332\n",
            "Fetched data from Silver table.\n"
          ]
        }
      ]
    },
    {
      "cell_type": "code",
      "source": [
        "\n",
        "session.execute(\"\"\"\n",
        "CREATE TABLE IF NOT EXISTS example.gold_top_products_units (\n",
        "    item_type TEXT PRIMARY KEY,\n",
        "    total_units_sold INT\n",
        ");\n",
        "\"\"\")\n",
        "print(\"Gold table for top products by total units sold created.\")\n",
        "\n",
        "\n",
        "rows = session.execute(\"\"\"\n",
        "SELECT item_type, SUM(units_sold) AS total_units_sold\n",
        "FROM example.bronze_sales\n",
        "GROUP BY item_type;\n",
        "\"\"\")\n",
        "\n",
        "for row in rows:\n",
        "    session.execute(\"\"\"\n",
        "    INSERT INTO example.gold_top_products_units (item_type, total_units_sold)\n",
        "    VALUES (%s, %s)\n",
        "    \"\"\", (row.item_type, row.total_units_sold))\n"
      ],
      "metadata": {
        "id": "NGupOtL91ttH"
      },
      "execution_count": null,
      "outputs": []
    },
    {
      "cell_type": "code",
      "source": [
        "\n",
        "session.execute(\"\"\"\n",
        "CREATE TABLE IF NOT EXISTS example.gold_profit_by_country (\n",
        "    country TEXT PRIMARY KEY,\n",
        "    total_profit DOUBLE\n",
        ");\n",
        "\"\"\")\n",
        "print(\"Gold table for profit by country created.\")\n",
        "\n",
        "\n",
        "rows = session.execute(\"\"\"\n",
        "SELECT country, SUM(total_profit) AS total_profit\n",
        "FROM example.bronze_sales\n",
        "GROUP BY country;\n",
        "\"\"\")\n",
        "\n",
        "for row in rows:\n",
        "    session.execute(\"\"\"\n",
        "    INSERT INTO example.gold_profit_by_country (country, total_profit)\n",
        "    VALUES (%s, %s)\n",
        "    \"\"\", (row.country, row.total_profit))\n"
      ],
      "metadata": {
        "id": "aVfrMe3W13bt"
      },
      "execution_count": null,
      "outputs": []
    }
  ]
}